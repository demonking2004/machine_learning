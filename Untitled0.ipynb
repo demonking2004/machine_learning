{
  "nbformat": 4,
  "nbformat_minor": 0,
  "metadata": {
    "colab": {
      "provenance": [],
      "authorship_tag": "ABX9TyNSiqLQ7thujBw9d7TiiQ2v",
      "include_colab_link": true
    },
    "kernelspec": {
      "name": "python3",
      "display_name": "Python 3"
    },
    "language_info": {
      "name": "python"
    }
  },
  "cells": [
    {
      "cell_type": "markdown",
      "metadata": {
        "id": "view-in-github",
        "colab_type": "text"
      },
      "source": [
        "<a href=\"https://colab.research.google.com/github/demonking2004/machine_learning/blob/main/Untitled0.ipynb\" target=\"_parent\"><img src=\"https://colab.research.google.com/assets/colab-badge.svg\" alt=\"Open In Colab\"/></a>"
      ]
    },
    {
      "cell_type": "code",
      "execution_count": 5,
      "metadata": {
        "id": "p0NCYCxVGkaW"
      },
      "outputs": [],
      "source": [
        "# Import necessary libraries\n",
        "import numpy as np  # For numerical operations\n",
        "import matplotlib.pyplot as plt  # For visualizations\n",
        "\n",
        "# Import type hints\n",
        "from typing import List, Tuple, Dict, Optional\n",
        "\n",
        "# set seed for reproducibility\n",
        "np.random.seed(42)\n",
        "\n",
        "# Enable inline plotting for Jupyter Notebook\n",
        "%matplotlib inline"
      ]
    },
    {
      "cell_type": "code",
      "source": [
        "def create_gridworld(\n",
        "    rows: int,\n",
        "    cols: int,\n",
        "    t_states: List[Tuple[int, int]],\n",
        "    rewards: Dict[Tuple[int, int], int]\n",
        ") -> Tuple[np.ndarray, List[Tuple[int, int]], List[str]]:\n",
        "\n",
        "\n",
        "    grid = np.zeros((rows, cols))\n",
        "\n",
        "    for (rows, cols), rewards in rewards.items():\n",
        "      grid[rows, cols] = rewards\n",
        "\n",
        "    state_space = [\n",
        "        (rows, cols)\n",
        "        for rows in range(rows)\n",
        "        for cols in range(cols)\n",
        "        if (rows, cols) not in t_states\n",
        "    ]\n",
        "\n",
        "    action_space = ['up', 'down', 'left', 'right']\n",
        "\n",
        "    return grid, state_space, action_space"
      ],
      "metadata": {
        "id": "A7ABkUTRncsc"
      },
      "execution_count": 7,
      "outputs": []
    },
    {
      "cell_type": "code",
      "source": [
        "def state_transition (\n",
        "    state = Tuple[int, int],\n",
        "    action = str,\n",
        "    rows = int,\n",
        "    cols = int\n",
        ") -> Tuple[int, int]:\n",
        "\n",
        "\n",
        "    row, col = state\n",
        "\n",
        "    if action == 'up' and row > 0:\n",
        "      row-=1\n",
        "    elif action == 'down' and row < rows - 1:\n",
        "      row+=1\n",
        "    elif action == 'left' and col > 0:\n",
        "      col-=1\n",
        "    elif action == 'right' and col < cols - 1:\n",
        "      col+=1\n",
        "\n",
        "    return (row, col)"
      ],
      "metadata": {
        "id": "YgArO78SyDqS"
      },
      "execution_count": 10,
      "outputs": []
    },
    {
      "cell_type": "code",
      "source": [
        "def get_rewards(\n",
        "    state = Tuple[int, int],\n",
        "    rewards = Dict[Tuple[int, int], int]\n",
        ") -> int:\n",
        "\n",
        "\n",
        "    return rewards.get(state, 0)"
      ],
      "metadata": {
        "id": "uoVGK_FqzpUT"
      },
      "execution_count": 11,
      "outputs": []
    },
    {
      "cell_type": "code",
      "source": [],
      "metadata": {
        "id": "-X6lIjYK1hVi"
      },
      "execution_count": null,
      "outputs": []
    }
  ]
}